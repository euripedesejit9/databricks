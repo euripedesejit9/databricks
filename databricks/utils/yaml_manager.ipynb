{
 "cells": [
  {
   "cell_type": "code",
   "execution_count": 0,
   "metadata": {
    "application/vnd.databricks.v1+cell": {
     "cellMetadata": {
      "byteLimit": 2048000,
      "rowLimit": 10000
     },
     "inputWidgets": {},
     "nuid": "a59b40c4-8468-4776-b923-dfab7ed9bd74",
     "showTitle": false,
     "tableResultSettingsMap": {},
     "title": ""
    }
   },
   "outputs": [],
   "source": [
    "import yaml\n",
    "import os \n",
    "\n",
    "class YamlManager:\n",
    "\n",
    "    def __init__(self, project_name:str):\n",
    "        self.project_name = project_name\n",
    "        self.__set_location_path()\n",
    "\n",
    "\n",
    "    def __set_location_path(self):\n",
    "        self.base_path = dbutils().notebook.entry_point.getDbutils() \\\n",
    "            .notebook().getContext().notebookPath().get().split('/databricks')[0]\n",
    "\n",
    "        file_path = os.path.join(self.base_path, \"databricks\", self.project_name, \"notebook\", \"config\")\n",
    "\n",
    "        self.full_path = \"/Workspace\" + file_path\n",
    "\n",
    "        if not os.path.exists(self.full_path):\n",
    "            os.makedirs(self.full_path)\n",
    "\n",
    "\n",
    "    @property\n",
    "    def get_all_files(self) -> List:\n",
    "        all_file_paths = []\n",
    "        for root, _, files in os.walk( self.full_path):\n",
    "            for file in files:\n",
    "                file_path = os.path.join(root, file)\n",
    "                all_file_paths.append(file_path)\n",
    "\n",
    "        return all_file_paths\n",
    "\n",
    "\n",
    "    def load_yaml_file(self, file_name:str) -> List[Dict]:\n",
    "        file_path = os.path.join(self.full_path, file_name + \".yaml\")\n",
    "        if os.path.exists(file_path):\n",
    "            with open(file_path, 'r') as yaml_file:\n",
    "                return yaml.safe_load(yaml_file)\n",
    "        return []\n",
    "    \n",
    "    \n",
    "    def save(self, data:dict, file_name:str) -> None:\n",
    "        file_path = os.path.join(self.full_path, file_name + \".yaml\")\n",
    "        with open(file_path, 'w') as file:\n",
    "            yaml.safe_dump(data, file, default_flow_style=False, sort_keys=False)"
   ]
  }
 ],
 "metadata": {
  "application/vnd.databricks.v1+notebook": {
   "computePreferences": null,
   "dashboards": [],
   "environmentMetadata": {
    "base_environment": "",
    "environment_version": "2"
   },
   "inputWidgetPreferences": null,
   "language": "python",
   "notebookMetadata": {
    "pythonIndentUnit": 4
   },
   "notebookName": "yaml_manager",
   "widgets": {}
  },
  "language_info": {
   "name": "python"
  }
 },
 "nbformat": 4,
 "nbformat_minor": 0
}
