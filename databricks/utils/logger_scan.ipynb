{
 "cells": [
  {
   "cell_type": "code",
   "execution_count": 0,
   "metadata": {
    "application/vnd.databricks.v1+cell": {
     "cellMetadata": {},
     "inputWidgets": {},
     "nuid": "b71e6e8e-f7a4-421a-800e-b278d127b6a6",
     "showTitle": false,
     "tableResultSettingsMap": {},
     "title": ""
    }
   },
   "outputs": [],
   "source": [
    "import logging\n",
    "\n",
    "class LoggerScan:\n",
    "    \n",
    "    def __init__(self, log_level:int = logging.INFO) -> None:\n",
    "        \"\"\"\n",
    "        Responsible for handling the logs.\n",
    "        log_level (int): Logging level (DEBUG, INFO, WARNING, ERROR, CRITICAL)\n",
    "        \"\"\"\n",
    "        self.logger = logging.getLogger(\"LoggerScan-\")\n",
    "        self.logger.propagate = False\n",
    "        self.logger.setLevel(log_level)\n",
    "        \n",
    "        if self.logger.hasHandlers():\n",
    "            self.logger.handlers.clear()\n",
    "\n",
    "        console_handler = logging.StreamHandler()\n",
    "        console_handler.setLevel(log_level)\n",
    "\n",
    "        formatter = logging.Formatter(\"%(asctime)s UTC - %(name)s - %(levelname)s - %(message)s\")\n",
    "        console_handler.setFormatter(formatter)\n",
    "\n",
    "        self.logger.addHandler(console_handler)\n",
    "\n",
    "    def debug(self, message: str) -> None:\n",
    "        \"\"\"Writes a debug message.\"\"\"\n",
    "        self.logger.debug(message)\n",
    "\n",
    "    def info(self, message: str) -> None:\n",
    "        \"\"\"Writes an info message.\"\"\"\n",
    "        self.logger.info(message)\n",
    "\n",
    "    def warning(self, message: str) -> None:\n",
    "        \"\"\"Writes a warning message.\"\"\"\n",
    "        self.logger.warning(message)\n",
    "\n",
    "    def error(self, message: str) -> None:\n",
    "        \"\"\"Writes an error message.\"\"\"\n",
    "        self.logger.error(message)\n",
    "\n",
    "    def critical(self, message: str) -> None:\n",
    "        \"\"\"Writes a critical message.\"\"\"\n",
    "        self.logger.critical(message)"
   ]
  }
 ],
 "metadata": {
  "application/vnd.databricks.v1+notebook": {
   "computePreferences": null,
   "dashboards": [],
   "environmentMetadata": {
    "base_environment": "",
    "environment_version": "2"
   },
   "inputWidgetPreferences": null,
   "language": "python",
   "notebookMetadata": {
    "pythonIndentUnit": 4
   },
   "notebookName": "logger_scan",
   "widgets": {}
  },
  "language_info": {
   "name": "python"
  }
 },
 "nbformat": 4,
 "nbformat_minor": 0
}
