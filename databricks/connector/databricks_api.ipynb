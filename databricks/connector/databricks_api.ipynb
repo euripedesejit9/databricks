{
 "cells": [
  {
   "cell_type": "code",
   "execution_count": 0,
   "metadata": {
    "application/vnd.databricks.v1+cell": {
     "cellMetadata": {
      "byteLimit": 2048000,
      "rowLimit": 10000
     },
     "inputWidgets": {},
     "nuid": "12d63c3e-d04c-439f-bb46-d1b0f56ab31f",
     "showTitle": false,
     "tableResultSettingsMap": {},
     "title": ""
    }
   },
   "outputs": [],
   "source": [
    "%run ./api_connector"
   ]
  },
  {
   "cell_type": "code",
   "execution_count": 0,
   "metadata": {
    "application/vnd.databricks.v1+cell": {
     "cellMetadata": {
      "byteLimit": 2048000,
      "rowLimit": 10000
     },
     "inputWidgets": {},
     "nuid": "a59b40c4-8468-4776-b923-dfab7ed9bd74",
     "showTitle": false,
     "tableResultSettingsMap": {},
     "title": ""
    }
   },
   "outputs": [],
   "source": [
    "import uuid, json\n",
    "\n",
    "class DatabricksApi(ApiConnector):\n",
    "    def __init__(self, scope, base_url, secret_key, timeout=30):\n",
    "        super().__init__(scope, base_url)\n",
    "        self.token = self.get_auth(scope, secret_key)\n",
    "        self.headers = {\n",
    "            'Authorization': f'Bearer {self.token}'\n",
    "        }\n",
    "\n",
    "    \n",
    "    def get_auth(self, scope, secret_key):\n",
    "        return dbutils.secrets.get(scope=scope, key=secret_key)\n",
    "    \n",
    "\n",
    "    def run_job(self, payload: dict) -> dict:\n",
    "        endpoint = \"/api/2.2/jobs/run-now\"\n",
    "\n",
    "        if 'idempotency_token' not in payload:\n",
    "            idempotency_token = str(uuid.uuid4())\n",
    "            payload[\"idempotency_token\"] = idempotency_token\n",
    "        else:\n",
    "            idempotency_token = payload[\"idempotency_token\"]\n",
    "        \n",
    "        response = self.request(\"POST\", endpoint, data=json.dumps(payload))\n",
    "        \n",
    "        data = response.json()\n",
    "        data['idempotency_token'] = idempotency_token\n",
    "\n",
    "        return data"
   ]
  }
 ],
 "metadata": {
  "application/vnd.databricks.v1+notebook": {
   "computePreferences": null,
   "dashboards": [],
   "environmentMetadata": {
    "base_environment": "",
    "environment_version": "2"
   },
   "inputWidgetPreferences": null,
   "language": "python",
   "notebookMetadata": {
    "pythonIndentUnit": 4
   },
   "notebookName": "databricks_api",
   "widgets": {}
  },
  "language_info": {
   "name": "python"
  }
 },
 "nbformat": 4,
 "nbformat_minor": 0
}
