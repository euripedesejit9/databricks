{
 "cells": [
  {
   "cell_type": "code",
   "execution_count": 0,
   "metadata": {
    "application/vnd.databricks.v1+cell": {
     "cellMetadata": {},
     "inputWidgets": {},
     "nuid": "5242d186-4ed9-4d70-b9aa-c19e35f06827",
     "showTitle": false,
     "tableResultSettingsMap": {},
     "title": ""
    }
   },
   "outputs": [],
   "source": [
    "import requests\n",
    "import time\n",
    "import json\n",
    "import http.client\n",
    "import datetime as dt\n",
    "import base64\n",
    "import uuid\n",
    "\n",
    "from pyspark.dbutils import DBUtils\n",
    "\n",
    "class ApiConnector:\n",
    "\n",
    "    def __init__(self, scope, base_url, headers=None):\n",
    "        self.base_url = dbutils.secrets.get(scope=scope, key=base_url)\n",
    "        self.headers = headers or {}\n",
    "\n",
    "\n",
    "    def request(self, method, endpoint, params=None, data=None, json=None, retry_delay=0.3, max_retries=5, timeout=30):\n",
    "        retry_count = 0\n",
    "        while retry_count < max_retries:\n",
    "            \n",
    "            if 'http' in self.base_url:\n",
    "                url = f'{self.base_url}/{endpoint}'\n",
    "            else:\n",
    "                url = f'https://{self.base_url}/{endpoint}'\n",
    "\n",
    "            response = requests.request(\n",
    "                method=method,\n",
    "                url=url,\n",
    "                headers=self.headers,\n",
    "                params=params,\n",
    "                data=data,\n",
    "                json=json,\n",
    "                timeout=timeout\n",
    "            )\n",
    "\n",
    "            if response.status_code in [200, 202]:\n",
    "                return response\n",
    "\n",
    "            else:\n",
    "                retry_count += 1\n",
    "                if retry_count < max_retries:\n",
    "                    time.sleep(retry_delay*2)\n",
    "        \n",
    "        return response  "
   ]
  }
 ],
 "metadata": {
  "application/vnd.databricks.v1+notebook": {
   "computePreferences": null,
   "dashboards": [],
   "environmentMetadata": {
    "base_environment": "",
    "environment_version": "2"
   },
   "inputWidgetPreferences": null,
   "language": "python",
   "notebookMetadata": {
    "pythonIndentUnit": 4
   },
   "notebookName": "api_connector",
   "widgets": {}
  },
  "language_info": {
   "name": "python"
  }
 },
 "nbformat": 4,
 "nbformat_minor": 0
}
