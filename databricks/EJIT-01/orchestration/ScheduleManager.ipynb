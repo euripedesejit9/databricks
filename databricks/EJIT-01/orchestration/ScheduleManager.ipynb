{
 "cells": [
  {
   "cell_type": "code",
   "execution_count": 0,
   "metadata": {
    "application/vnd.databricks.v1+cell": {
     "cellMetadata": {
      "byteLimit": 2048000,
      "rowLimit": 10000
     },
     "inputWidgets": {},
     "nuid": "cba7467a-f10d-48c5-9de5-b1f658a67602",
     "showTitle": false,
     "tableResultSettingsMap": {},
     "title": ""
    }
   },
   "outputs": [],
   "source": [
    "%run ../notebook/workflow/workflow_schedule_control"
   ]
  },
  {
   "cell_type": "code",
   "execution_count": 0,
   "metadata": {
    "application/vnd.databricks.v1+cell": {
     "cellMetadata": {
      "byteLimit": 2048000,
      "rowLimit": 10000
     },
     "inputWidgets": {},
     "nuid": "3b82fa3e-abaa-47e9-9db9-8d20b90b7308",
     "showTitle": false,
     "tableResultSettingsMap": {},
     "title": ""
    }
   },
   "outputs": [],
   "source": [
    "dbutils.widgets.dropdown(\"env\", \"PRD\", [\"PRD\", \"UAT\", \"DEV\"])\n",
    "env = dbutils.widgets.get(\"env\")\n",
    "\n",
    "dbutils.widgets.text(\"country\", \"brazil\")\n",
    "country = dbutils.widgets.get(\"country\")"
   ]
  },
  {
   "cell_type": "code",
   "execution_count": 0,
   "metadata": {
    "application/vnd.databricks.v1+cell": {
     "cellMetadata": {
      "byteLimit": 2048000,
      "rowLimit": 10000
     },
     "inputWidgets": {},
     "nuid": "fbac1d96-5a97-45b5-9533-f06bcdd056b4",
     "showTitle": false,
     "tableResultSettingsMap": {},
     "title": ""
    }
   },
   "outputs": [],
   "source": [
    "WorkflowScheduleControl(country).trigger_job_schedule()"
   ]
  }
 ],
 "metadata": {
  "application/vnd.databricks.v1+notebook": {
   "computePreferences": null,
   "dashboards": [],
   "environmentMetadata": {
    "base_environment": "",
    "environment_version": "2"
   },
   "inputWidgetPreferences": null,
   "language": "python",
   "notebookMetadata": {
    "mostRecentlyExecutedCommandWithImplicitDF": {
     "commandId": -1,
     "dataframes": [
      "_sqldf"
     ]
    },
    "pythonIndentUnit": 4
   },
   "notebookName": "ScheduleManager",
   "widgets": {
    "country": {
     "currentValue": "brazil",
     "nuid": "f8f336df-1a49-4f93-a2b9-fc6f8132858b",
     "typedWidgetInfo": {
      "autoCreated": false,
      "defaultValue": "brazil",
      "label": null,
      "name": "country",
      "options": {
       "widgetDisplayType": "Text",
       "validationRegex": null
      },
      "parameterDataType": "String"
     },
     "widgetInfo": {
      "widgetType": "text",
      "defaultValue": "brazil",
      "label": null,
      "name": "country",
      "options": {
       "widgetType": "text",
       "autoCreated": null,
       "validationRegex": null
      }
     }
    },
    "env": {
     "currentValue": "PRD",
     "nuid": "8a92c616-923a-41a5-b709-76f943c65b50",
     "typedWidgetInfo": {
      "autoCreated": false,
      "defaultValue": "PRD",
      "label": null,
      "name": "env",
      "options": {
       "widgetDisplayType": "Dropdown",
       "choices": [
        "PRD",
        "UAT",
        "DEV"
       ],
       "fixedDomain": true,
       "multiselect": false
      },
      "parameterDataType": "String"
     },
     "widgetInfo": {
      "widgetType": "dropdown",
      "defaultValue": "PRD",
      "label": null,
      "name": "env",
      "options": {
       "widgetType": "dropdown",
       "autoCreated": null,
       "choices": [
        "PRD",
        "UAT",
        "DEV"
       ]
      }
     }
    }
   }
  },
  "language_info": {
   "name": "python"
  }
 },
 "nbformat": 4,
 "nbformat_minor": 0
}
